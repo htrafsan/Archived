{
  "nbformat": 4,
  "nbformat_minor": 0,
  "metadata": {
    "colab": {
      "name": "18101009_SCAN_LAB4.ipynb",
      "provenance": [],
      "collapsed_sections": []
    },
    "kernelspec": {
      "name": "python3",
      "display_name": "Python 3"
    },
    "language_info": {
      "name": "python"
    }
  },
  "cells": [
    {
      "cell_type": "markdown",
      "source": [
        "**CSE 406**\n",
        "```\n",
        "UNIVERSITY OF ASIA PACIFIC\n",
        "HASAN TAHSIN RAFSAN\n",
        "SPRING 2021\n",
        "Lab Problem 7\n",
        "25 AUGUST 2021\n",
        "```"
      ],
      "metadata": {
        "id": "J2t8HXuYvNs5"
      }
    },
    {
      "cell_type": "markdown",
      "source": [
        "```\n",
        "SCAN DISK SCHEDULING ALGORITHM\n",
        "GIVEN INPUTS\n",
        "98,183,37,122,14,124,65,67\n",
        "HEAD\n",
        "53\n",
        "```"
      ],
      "metadata": {
        "id": "75CZA4AQvUxI"
      }
    },
    {
      "cell_type": "code",
      "metadata": {
        "colab": {
          "base_uri": "https://localhost:8080/"
        },
        "id": "BDBspu3dll-2",
        "outputId": "508fc690-b1c0-443c-b111-840285ea56ef"
      },
      "source": [
        "#input of queue & head\n",
        "queue = list(map(int, input('Queue is : ').split(\",\")))\n",
        "head = int(input('Head starts at : '))"
      ],
      "execution_count": null,
      "outputs": [
        {
          "output_type": "stream",
          "text": [
            "Queue is : 98,183,37,122,14,124,65,67\n",
            "Head starts at : 53\n"
          ],
          "name": "stdout"
        }
      ]
    },
    {
      "cell_type": "code",
      "metadata": {
        "colab": {
          "base_uri": "https://localhost:8080/"
        },
        "id": "2pCGHoxtm4kC",
        "outputId": "1c1f0480-3833-49c2-97a5-7f5d03e4cc1a"
      },
      "source": [
        "q2 = queue.copy() #store in q2\n",
        "q2.append(head)\n",
        "q2.append(0) #head replace with 0\n",
        "q2.sort() #sorting\n",
        "print(q2) #print path"
      ],
      "execution_count": null,
      "outputs": [
        {
          "output_type": "stream",
          "text": [
            "[0, 14, 37, 53, 65, 67, 98, 122, 124, 183]\n"
          ],
          "name": "stdout"
        }
      ]
    },
    {
      "cell_type": "code",
      "metadata": {
        "colab": {
          "base_uri": "https://localhost:8080/"
        },
        "id": "xDmf6uYZnHPO",
        "outputId": "67c0c2d9-c0d6-47ff-9668-c26252b51b93"
      },
      "source": [
        "#store in q3\n",
        "q3 = q2[:q2.index(head)]\n",
        "q3.append(head)\n",
        "q3 = q3[::-1]\n",
        "print(q3)"
      ],
      "execution_count": null,
      "outputs": [
        {
          "output_type": "stream",
          "text": [
            "[53, 37, 14, 0]\n"
          ],
          "name": "stdout"
        }
      ]
    },
    {
      "cell_type": "code",
      "metadata": {
        "colab": {
          "base_uri": "https://localhost:8080/"
        },
        "id": "UUiLffg0nUmj",
        "outputId": "4b1fe073-a359-47c6-bc90-fb92e4d61845"
      },
      "source": [
        "#store in q4\n",
        "q4 = q2[q2.index(head):]\n",
        "q4.sort()\n",
        "q4[q4.index(head)]=0\n",
        "print(q4)"
      ],
      "execution_count": null,
      "outputs": [
        {
          "output_type": "execute_result",
          "data": {
            "text/plain": [
              "[0, 65, 67, 98, 122, 124, 183]"
            ]
          },
          "metadata": {},
          "execution_count": 6
        }
      ]
    },
    {
      "cell_type": "code",
      "metadata": {
        "colab": {
          "base_uri": "https://localhost:8080/"
        },
        "id": "itxWhvkqnY-x",
        "outputId": "edc6441a-2976-4473-f24e-e0a18f9da956"
      },
      "source": [
        "val = [] #let path cost array\n",
        "print(\"Total Distance:\")\n",
        "\n",
        "for i in range(len(q3)-1): #loop for range in q3\n",
        "    val.append(abs(q3[i] - q3[i+1]))\n",
        "    print('({}-{})'.format(q3[i],q3[i+1]),end='+') #print distance\n",
        "    \n",
        "for i in range(len(q4)-1): #loop for range in q4\n",
        "    val.append(abs(q4[i] - q4[i+1]))\n",
        "\n",
        "    if i == (len(q4)-2):\n",
        "        print('({}-{})'.format(q4[i+1],q4[i])) #print distance\n",
        "    \n",
        "    else:\n",
        "        print('({}-{})'.format((q4[i+1]),q4[i]),end='+') #print distance"
      ],
      "execution_count": null,
      "outputs": [
        {
          "output_type": "stream",
          "text": [
            "Total Distance:\n",
            "(53-37)+(37-14)+(14-0)+(65-0)+(67-65)+(98-67)+(122-98)+(124-122)+(183-124)\n"
          ],
          "name": "stdout"
        }
      ]
    },
    {
      "cell_type": "code",
      "metadata": {
        "colab": {
          "base_uri": "https://localhost:8080/"
        },
        "id": "fmMS9tGtn928",
        "outputId": "8b69d638-734f-4b31-b11f-0d8324aba1af"
      },
      "source": [
        "#print the path\n",
        "print (\"Path:\")\n",
        "q3.extend(q4[1:]) \n",
        "print(q3) #print path"
      ],
      "execution_count": null,
      "outputs": [
        {
          "output_type": "stream",
          "text": [
            "Path:\n",
            "[53, 37, 14, 0, 65, 67, 98, 122, 124, 183]\n"
          ],
          "name": "stdout"
        }
      ]
    },
    {
      "cell_type": "code",
      "metadata": {
        "colab": {
          "base_uri": "https://localhost:8080/"
        },
        "id": "VECNn_9lpodf",
        "outputId": "e84a419b-600e-4c42-d15a-b70d733e4e0a"
      },
      "source": [
        "#total path cost\n",
        "print('Illustratrion shows total movement of',sum(val), 'cylinders')"
      ],
      "execution_count": null,
      "outputs": [
        {
          "output_type": "stream",
          "text": [
            "Illustratrion shows total movement of 236 cylinders\n"
          ],
          "name": "stdout"
        }
      ]
    }
  ]
}