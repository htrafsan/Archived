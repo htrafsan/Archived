{
  "nbformat": 4,
  "nbformat_minor": 0,
  "metadata": {
    "colab": {
      "name": "18101009_lab1_SJF.ipynb",
      "provenance": [],
      "collapsed_sections": []
    },
    "kernelspec": {
      "name": "python3",
      "display_name": "Python 3"
    },
    "language_info": {
      "name": "python"
    }
  },
  "cells": [
    {
      "cell_type": "markdown",
      "source": [
        "**CSE 406**\n",
        "```\n",
        "UNIVERSITY OF ASIA PACIFIC\n",
        "HASAN TAHSIN RAFSAN\n",
        "SPRING 2021\n",
        "LAB TASK 2\n",
        "18 AUGUST 2021\n",
        "```"
      ],
      "metadata": {
        "id": "y9cHCEInoqmS"
      }
    },
    {
      "cell_type": "markdown",
      "source": [
        "```\n",
        "SHORTEST JOB FIRST CPU SCHEDULING ALGORITHM\n",
        "GIVEN INPUTS\n",
        "P1 P2 P3 P4\n",
        "21 3 6 2\n",
        "```"
      ],
      "metadata": {
        "id": "gOnJszxipHsK"
      }
    },
    {
      "cell_type": "code",
      "metadata": {
        "colab": {
          "base_uri": "https://localhost:8080/"
        },
        "id": "_iwfyZStpRMi",
        "outputId": "44207907-18c7-49f5-a474-c8bfcf68d68f"
      },
      "source": [
        "print('Process name :', end=' ')\n",
        "process = input().split()\n",
        "\n",
        "print('Brurst time :', end=' ')\n",
        "time = list(map(int, input().split()))\n",
        "\n",
        "type(process)\n",
        "type(process[1])\n",
        "\n",
        "type(time)\n",
        "type(time[1])\n",
        "\n",
        "\n",
        "l = [process, time]\n",
        "\n",
        "df = pd.DataFrame(l).transpose()\n",
        "df.columns = ['Process', 'Time']\n",
        "\n",
        "import pandas as pd\n",
        "df.sort_values(by=['Time'], ascending=True, axis=0, inplace=True)\n",
        "df\n",
        "print(0, end=' ')\n",
        "temp = 0\n",
        "l3 = [0]\n",
        "\n",
        "for p, t in zip(df.Process, df.Time):\n",
        "    temp += t\n",
        "    l3.append(temp)\n",
        "    print(p, temp, end=' ')\n",
        "\n",
        "l3 = l3[:-1]\n",
        "\n",
        "import numpy as np\n",
        "waiting = np.sum(l3)/len(l3)\n",
        "print('\\nAverage waiting time : {0:.2f}ms'.format(waiting))"
      ],
      "execution_count": null,
      "outputs": [
        {
          "output_type": "stream",
          "name": "stdout",
          "text": [
            "Process name : P1 P2 P3 P4\n",
            "Brurst time : 21 3 6 2\n",
            "0 P4 2 P2 5 P3 11 P1 32 \n",
            "Average waiting time : 4.50ms\n"
          ]
        }
      ]
    }
  ]
}