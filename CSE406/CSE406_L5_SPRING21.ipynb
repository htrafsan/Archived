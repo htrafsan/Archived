{
  "nbformat": 4,
  "nbformat_minor": 0,
  "metadata": {
    "colab": {
      "name": "FCFS_Disk.ipynb",
      "provenance": []
    },
    "kernelspec": {
      "name": "python3",
      "display_name": "Python 3"
    },
    "language_info": {
      "name": "python"
    }
  },
  "cells": [
    {
      "cell_type": "markdown",
      "source": [
        "**CSE 406**\n",
        "```\n",
        "UNIVERSITY OF ASIA PACIFIC\n",
        "HASAN TAHSIN RAFSAN\n",
        "SPRING 2021\n",
        "Lab Problem 5\n",
        "18 AUGUST 2021\n",
        "```"
      ],
      "metadata": {
        "id": "epjt81BDs5CJ"
      }
    },
    {
      "cell_type": "markdown",
      "source": [
        "```\n",
        "FIRST COME FIRST SERVE DISK SCHEDULING ALGORITHM\n",
        "GIVEN INPUTS\n",
        "98,183,37,122,14,124,65,67\n",
        "HEAD\n",
        "53\n",
        "```"
      ],
      "metadata": {
        "id": "41i9x-iatrWp"
      }
    },
    {
      "cell_type": "code",
      "metadata": {
        "colab": {
          "base_uri": "https://localhost:8080/"
        },
        "id": "h_pzDxA6oBJ3",
        "outputId": "117e5458-7574-4964-900e-560df5b09ca0"
      },
      "source": [
        "#path, total distance cost\n",
        "#input of queue & head\n",
        "queue = list(map(int, input('Queue is : ').split(\",\")))\n",
        "head = int(input('Head starts at : '))"
      ],
      "execution_count": null,
      "outputs": [
        {
          "output_type": "stream",
          "text": [
            "Queue is : 98,183,37,122,14,124,65,67\n",
            "Head starts at : 53\n"
          ],
          "name": "stdout"
        }
      ]
    },
    {
      "cell_type": "code",
      "metadata": {
        "colab": {
          "base_uri": "https://localhost:8080/"
        },
        "id": "RbHIUGV8pJUn",
        "outputId": "fa8eb0ee-0dca-43ba-d943-26e46153e60a"
      },
      "source": [
        "queue.insert(0,head) #insert 0 to map head\n",
        "print('Path: ',queue) #print path"
      ],
      "execution_count": null,
      "outputs": [
        {
          "output_type": "stream",
          "text": [
            "Path:  [53, 53, 98, 183, 37, 122, 14, 124, 65, 67]\n"
          ],
          "name": "stdout"
        }
      ]
    },
    {
      "cell_type": "code",
      "metadata": {
        "colab": {
          "base_uri": "https://localhost:8080/"
        },
        "id": "9-tUTlPKpys-",
        "outputId": "2a19f447-d108-45db-f2dd-9d4ce0be7c0d"
      },
      "source": [
        "temp= [0]\n",
        "print('total distance: ')\n",
        "  \n",
        "for i in range(1,len(queue)): #loop\n",
        "    \n",
        "    if i == len(queue)-1:\n",
        "        print('({}-{})'.format(queue[i],queue[i-1]))\n",
        "\n",
        "    else:\n",
        "        print('({}-{})'.format(queue[i],queue[i-1]),end='+')\n",
        "    temp.append( abs(queue[i]- queue[i-1]))"
      ],
      "execution_count": null,
      "outputs": [
        {
          "output_type": "stream",
          "text": [
            "total distance: \n",
            "(53-53)+(98-53)+(183-98)+(37-183)+(122-37)+(14-122)+(124-14)+(65-124)+(67-65)\n"
          ],
          "name": "stdout"
        }
      ]
    },
    {
      "cell_type": "code",
      "metadata": {
        "colab": {
          "base_uri": "https://localhost:8080/"
        },
        "id": "bXBOKg3Iq2ZI",
        "outputId": "a9217a9b-6359-4330-bb5e-bdc0524335fd"
      },
      "source": [
        "#total path cost\n",
        "print('Illustratrion shows total movement of', sum(temp), 'cylinders')"
      ],
      "execution_count": null,
      "outputs": [
        {
          "output_type": "stream",
          "text": [
            "Illustratrion shows total movement of 640 cylinders\n"
          ],
          "name": "stdout"
        }
      ]
    }
  ]
}