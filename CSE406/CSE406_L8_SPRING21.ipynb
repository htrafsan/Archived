{
  "nbformat": 4,
  "nbformat_minor": 0,
  "metadata": {
    "colab": {
      "name": "18101009_C_SCAN_LAB4.ipynb",
      "provenance": [],
      "collapsed_sections": []
    },
    "kernelspec": {
      "name": "python3",
      "display_name": "Python 3"
    },
    "language_info": {
      "name": "python"
    }
  },
  "cells": [
    {
      "cell_type": "markdown",
      "source": [
        "**CSE 406**\n",
        "```\n",
        "UNIVERSITY OF ASIA PACIFIC\n",
        "HASAN TAHSIN RAFSAN\n",
        "SPRING 2021\n",
        "Lab Problem 8\n",
        "25 AUGUST 2021\n",
        "```"
      ],
      "metadata": {
        "id": "PyfhSBUHv-Nh"
      }
    },
    {
      "cell_type": "markdown",
      "source": [
        "```\n",
        "C-SCAN DISK SCHEDULING ALGORITHM\n",
        "GIVEN INPUTS\n",
        "98,183,37,122,14,124,65,67\n",
        "HEAD\n",
        "53\n",
        "END BOUND\n",
        "199\n",
        "```"
      ],
      "metadata": {
        "id": "q9tSE9vovx58"
      }
    },
    {
      "cell_type": "code",
      "metadata": {
        "colab": {
          "base_uri": "https://localhost:8080/"
        },
        "id": "DrQ20BuysBO5",
        "outputId": "17fb206b-4623-44fd-824b-2e69f3d7b2d3"
      },
      "source": [
        "#input of queue head & endbound\n",
        "queue = list(map(int, input('Queue is : ').split(\",\")))\n",
        "head = int(input('Head starts at : '))\n",
        "end_bound = int(input('End Boundary : '))"
      ],
      "execution_count": null,
      "outputs": [
        {
          "output_type": "stream",
          "text": [
            "Queue is : 98,183,37,122,14,124,65,67\n",
            "Head starts at : 53\n",
            "End Boundary : 199\n"
          ],
          "name": "stdout"
        }
      ]
    },
    {
      "cell_type": "code",
      "metadata": {
        "colab": {
          "base_uri": "https://localhost:8080/"
        },
        "id": "4YLdezXFs2_p",
        "outputId": "12bd75f3-d86d-4b09-cd6e-c4678ac985ab"
      },
      "source": [
        "q2 = queue.copy() #store in q2\n",
        "q2.append(head)\n",
        "q2.append(0) #head replace with 0\n",
        "q2.sort() #sorting\n",
        "print(q2) #print path"
      ],
      "execution_count": null,
      "outputs": [
        {
          "output_type": "stream",
          "text": [
            "[0, 14, 37, 53, 65, 67, 98, 122, 124, 183]\n"
          ],
          "name": "stdout"
        }
      ]
    },
    {
      "cell_type": "code",
      "metadata": {
        "colab": {
          "base_uri": "https://localhost:8080/"
        },
        "id": "yBaYBXyVxA9o",
        "outputId": "47b9fc0d-ec40-4713-ce4f-f72fabb9ec82"
      },
      "source": [
        "#store in q3\n",
        "q3 = q2[:q2.index(head)]\n",
        "q3.append(head)\n",
        "q3 = q3[::-1]\n",
        "print(q3)"
      ],
      "execution_count": null,
      "outputs": [
        {
          "output_type": "stream",
          "text": [
            "[53, 37, 14, 0]\n"
          ],
          "name": "stdout"
        }
      ]
    },
    {
      "cell_type": "code",
      "metadata": {
        "colab": {
          "base_uri": "https://localhost:8080/"
        },
        "id": "sYvRtm2sxEyo",
        "outputId": "14269893-e070-44c8-ea6d-103199339aaa"
      },
      "source": [
        "#store in q4\n",
        "q4 = q2[q2.index(head):]\n",
        "q4.sort()\n",
        "q4[q4.index(head)]=0\n",
        "print(q4)"
      ],
      "execution_count": null,
      "outputs": [
        {
          "output_type": "stream",
          "text": [
            "[0, 65, 67, 98, 122, 124, 183]\n"
          ],
          "name": "stdout"
        }
      ]
    },
    {
      "cell_type": "code",
      "metadata": {
        "id": "ScAlvyPKpKru"
      },
      "source": [
        "#After SCAN End boundary is given 199"
      ],
      "execution_count": null,
      "outputs": []
    },
    {
      "cell_type": "code",
      "metadata": {
        "colab": {
          "base_uri": "https://localhost:8080/"
        },
        "id": "yIOsxbxllFuN",
        "outputId": "07d87cc1-dfcd-4412-f5ca-0af0e7df4a10"
      },
      "source": [
        "q3.extend(q4[1:])\n",
        "print(q3) #updated q3"
      ],
      "execution_count": null,
      "outputs": [
        {
          "output_type": "stream",
          "text": [
            "[53, 37, 14, 0, 65, 67, 98, 122, 124, 183]\n"
          ],
          "name": "stdout"
        }
      ]
    },
    {
      "cell_type": "code",
      "metadata": {
        "colab": {
          "base_uri": "https://localhost:8080/"
        },
        "id": "v44wrn0IlXUF",
        "outputId": "0686be0f-5a8e-4b6f-a41b-abb8679501f7"
      },
      "source": [
        "q2.insert(len(q2),end_bound)\n",
        "print(q2) #inserted end boundary in q2"
      ],
      "execution_count": null,
      "outputs": [
        {
          "output_type": "stream",
          "text": [
            "[0, 14, 37, 53, 65, 67, 98, 122, 124, 183, 199]\n"
          ],
          "name": "stdout"
        }
      ]
    },
    {
      "cell_type": "code",
      "metadata": {
        "colab": {
          "base_uri": "https://localhost:8080/"
        },
        "id": "rHdbLgQvlfvw",
        "outputId": "def0071b-2ddb-4adf-8533-6a1c5f7bc57c"
      },
      "source": [
        "q3 = q2[:q2.index(head)]\n",
        "print(q3) #store in q3"
      ],
      "execution_count": null,
      "outputs": [
        {
          "output_type": "stream",
          "text": [
            "[0, 14, 37]\n"
          ],
          "name": "stdout"
        }
      ]
    },
    {
      "cell_type": "code",
      "metadata": {
        "colab": {
          "base_uri": "https://localhost:8080/"
        },
        "id": "qosiUtYXlgQ1",
        "outputId": "76d12220-19bb-4157-a644-7ab6016d2c70"
      },
      "source": [
        "q4 = q2[q2.index(head):]\n",
        "print(q4) #store in q4"
      ],
      "execution_count": null,
      "outputs": [
        {
          "output_type": "stream",
          "text": [
            "[53, 65, 67, 98, 122, 124, 183, 199]\n"
          ],
          "name": "stdout"
        }
      ]
    },
    {
      "cell_type": "code",
      "metadata": {
        "colab": {
          "base_uri": "https://localhost:8080/"
        },
        "id": "RshXkkvnlvhE",
        "outputId": "213f12c1-62e4-4034-e857-f1ab2e998878"
      },
      "source": [
        "val = [] #let path cost array\n",
        "print(\"Total Distance:\")\n",
        "\n",
        "for i in range(len(q5)-1):\n",
        "    val.append(abs(q5[i] - q5[i+1]))\n",
        "    if i == (len(q5)-2):\n",
        "        print('({}-{})'.format(q5[i],q5[i+1]))\n",
        "    else:\n",
        "        print('({}-{})'.format(q5[i],q5[i+1]),end='+')"
      ],
      "execution_count": null,
      "outputs": [
        {
          "output_type": "stream",
          "text": [
            "Total Distance:\n",
            "(53-65)+(65-67)+(67-98)+(98-122)+(122-124)+(124-183)+(183-199)+(199-0)+(0-14)+(14-37)\n"
          ],
          "name": "stdout"
        }
      ]
    },
    {
      "cell_type": "code",
      "metadata": {
        "colab": {
          "base_uri": "https://localhost:8080/"
        },
        "id": "ke_mLh0Rp101",
        "outputId": "340ff446-cab0-47dd-ffb5-1c5f5b81e75b"
      },
      "source": [
        "#print the path\n",
        "print (\"Path:\")\n",
        "q5 = q4+q3\n",
        "print(q5)"
      ],
      "execution_count": null,
      "outputs": [
        {
          "output_type": "stream",
          "text": [
            "Path:\n",
            "[53, 65, 67, 98, 122, 124, 183, 199, 0, 14, 37]\n"
          ],
          "name": "stdout"
        }
      ]
    },
    {
      "cell_type": "code",
      "metadata": {
        "colab": {
          "base_uri": "https://localhost:8080/"
        },
        "id": "PPPuBdGllv_I",
        "outputId": "94674605-f8b2-47bb-c6d9-3a546eb0a0f0"
      },
      "source": [
        "#total path cost\n",
        "print('Illustratrion shows total movement of',sum(val), 'cylinders')"
      ],
      "execution_count": null,
      "outputs": [
        {
          "output_type": "stream",
          "text": [
            "Illustratrion shows total movement of 382 cylinders\n"
          ],
          "name": "stdout"
        }
      ]
    }
  ]
}