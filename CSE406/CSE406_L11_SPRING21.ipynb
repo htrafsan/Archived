{
  "nbformat": 4,
  "nbformat_minor": 0,
  "metadata": {
    "colab": {
      "name": "18101009_OPTIMAL_LAB5.ipynb",
      "provenance": []
    },
    "kernelspec": {
      "name": "python3",
      "display_name": "Python 3"
    },
    "language_info": {
      "name": "python"
    }
  },
  "cells": [
    {
      "cell_type": "markdown",
      "source": [
        "**CSE 406**\n",
        "```\n",
        "UNIVERSITY OF ASIA PACIFIC\n",
        "HASAN TAHSIN RAFSAN\n",
        "SPRING 2021\n",
        "Lab Problem 11\n",
        "1 SEPTEMBER 2021\n",
        "```"
      ],
      "metadata": {
        "id": "sY76pWxQxjFI"
      }
    },
    {
      "cell_type": "markdown",
      "source": [
        "```\n",
        "OPTIMAL PAGE REPLACEMENT ALGORITHM\n",
        "```"
      ],
      "metadata": {
        "id": "3NMzlXOHxo42"
      }
    },
    {
      "cell_type": "code",
      "metadata": {
        "id": "CLazHwWMdQkB"
      },
      "source": [
        "#initialize\n",
        "a= []\n",
        "sum= 0"
      ],
      "execution_count": null,
      "outputs": []
    },
    {
      "cell_type": "code",
      "metadata": {
        "colab": {
          "base_uri": "https://localhost:8080/"
        },
        "id": "1NwgkqTIdT8X",
        "outputId": "2a2c6ac1-d246-40ae-b36d-42a04700415f"
      },
      "source": [
        "#input of frames  3 y\n",
        "f= int (input(\"Total Frame: \"))\n",
        "check= input(\"Check User Input: \")"
      ],
      "execution_count": null,
      "outputs": [
        {
          "name": "stdout",
          "output_type": "stream",
          "text": [
            "Total Frame: 3\n",
            "Check User Input: y\n"
          ]
        }
      ]
    },
    {
      "cell_type": "code",
      "metadata": {
        "colab": {
          "base_uri": "https://localhost:8080/"
        },
        "id": "7N1VcPQjdUI2",
        "outputId": "9cb418a0-f8b1-48db-a67e-662c7884baff"
      },
      "source": [
        "#user input\n",
        "if check=='y':\n",
        "    a= [7,0,1,2,0,3,0,4,2,3,0,3,2,1,2,0,1,7,0,1]\n",
        "    print(\"Reference Chart: \",a)\n",
        "\n",
        "else:\n",
        "    n= int (input(\"No of String : \"))\n",
        "    print(\"Enter String: \")\n",
        "    for i in range(n):\n",
        "      t= int (input())\n",
        "      a.append(t)\n",
        "\n",
        "n=len(a) #length  here 20"
      ],
      "execution_count": null,
      "outputs": [
        {
          "output_type": "stream",
          "name": "stdout",
          "text": [
            "Reference Chart:  [7, 0, 1, 2, 0, 3, 0, 4, 2, 3, 0, 3, 2, 1, 2, 0, 1, 7, 0, 1]\n"
          ]
        }
      ]
    },
    {
      "cell_type": "code",
      "metadata": {
        "id": "TCCqcBPQdUVq"
      },
      "source": [
        "m= [] #initialize\n",
        "c= []\n",
        "l=[]\n",
        "for i in range(f): #loop in frame\n",
        "    m.append(-1)"
      ],
      "execution_count": null,
      "outputs": []
    },
    {
      "cell_type": "code",
      "metadata": {
        "colab": {
          "base_uri": "https://localhost:8080/"
        },
        "id": "1m9Q89R4dwF1",
        "outputId": "04be0a19-2e43-45e2-d258-c9119f169bad"
      },
      "source": [
        "#print output\n",
        "print(\"Output\")\n",
        "\n",
        "for i in range(n): #loop in length\n",
        "    test=0\n",
        "    \n",
        "    for p in range(f): #loop in frame\n",
        "        c.append(m[p])\n",
        "    \n",
        "    if i<f: #less than frames\n",
        "        m[i]=a[i]\n",
        "        sum+=1\n",
        "        a[i]=-99\n",
        "    \n",
        "    else:\n",
        "        for j in range(f): #loop in frame\n",
        "            if a[i]==m[j]:\n",
        "                test=1\n",
        "                a[i]=-99\n",
        "                break\n",
        "        \n",
        "        if test==0:\n",
        "            for s in range(f): #loop in frame\n",
        "                \n",
        "                if (m[s] in a): #condition in array\n",
        "                    l.append(a.index(m[s]))\n",
        "                \n",
        "                else:\n",
        "                    l.append(999)\n",
        "            idx=l.index(max(l))\n",
        "            m[idx]=a[i]\n",
        "            sum+=1\n",
        "            a[i]=-99\n",
        "\n",
        "    if c==m:\n",
        "        for q in range(f): #loop in frame\n",
        "            print('-',end=' ')\n",
        "    \n",
        "    else:\n",
        "        for q in range(f): #loop in frame\n",
        "            \n",
        "            if m[q]==-1:\n",
        "                print(\"-\",end=' ') #print\n",
        "            \n",
        "            else:\n",
        "                print(m[q],end=' ') #print\n",
        "\n",
        "    c.clear()\n",
        "    l.clear()\n",
        "    print() #print values"
      ],
      "execution_count": null,
      "outputs": [
        {
          "output_type": "stream",
          "name": "stdout",
          "text": [
            "Output\n",
            "7 - - \n",
            "7 0 - \n",
            "7 0 1 \n",
            "2 0 1 \n",
            "- - - \n",
            "2 0 3 \n",
            "- - - \n",
            "2 4 3 \n",
            "- - - \n",
            "- - - \n",
            "2 0 3 \n",
            "- - - \n",
            "- - - \n",
            "2 0 1 \n",
            "- - - \n",
            "- - - \n",
            "- - - \n",
            "7 0 1 \n",
            "- - - \n",
            "- - - \n"
          ]
        }
      ]
    },
    {
      "cell_type": "code",
      "metadata": {
        "colab": {
          "base_uri": "https://localhost:8080/"
        },
        "id": "1vZirLkyd00Y",
        "outputId": "f8cc5994-c036-4f8e-c4bf-3afcd39d1df6"
      },
      "source": [
        "print(\"Page Fault: \",sum) #page fault"
      ],
      "execution_count": null,
      "outputs": [
        {
          "output_type": "stream",
          "name": "stdout",
          "text": [
            "Page Fault:  9\n"
          ]
        }
      ]
    }
  ]
}