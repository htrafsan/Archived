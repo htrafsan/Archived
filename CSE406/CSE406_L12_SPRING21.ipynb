{
  "nbformat": 4,
  "nbformat_minor": 0,
  "metadata": {
    "colab": {
      "name": "18101009_LRU_LAB5.ipynb",
      "provenance": []
    },
    "kernelspec": {
      "name": "python3",
      "display_name": "Python 3"
    },
    "language_info": {
      "name": "python"
    }
  },
  "cells": [
    {
      "cell_type": "markdown",
      "source": [
        "**CSE 406**\n",
        "```\n",
        "UNIVERSITY OF ASIA PACIFIC\n",
        "HASAN TAHSIN RAFSAN\n",
        "SPRING 2021\n",
        "Lab Problem 12\n",
        "1 SEPTEMBER 2021\n",
        "```"
      ],
      "metadata": {
        "id": "1t6BZx2jx6Eu"
      }
    },
    {
      "cell_type": "markdown",
      "source": [
        "```\n",
        "LEAST RECENTLY USED PAGE REPLACEMENT ALGORITHM\n",
        "```"
      ],
      "metadata": {
        "id": "--MqjxHQx8jO"
      }
    },
    {
      "cell_type": "code",
      "metadata": {
        "id": "oy-Rrnmwbcx7"
      },
      "source": [
        "#initialize\n",
        "a= []\n",
        "sum= 0"
      ],
      "execution_count": null,
      "outputs": []
    },
    {
      "cell_type": "code",
      "metadata": {
        "colab": {
          "base_uri": "https://localhost:8080/"
        },
        "id": "XmzCx78ubceX",
        "outputId": "9977ff68-baf3-4b20-9386-319306e2252d"
      },
      "source": [
        "#input of frames  3 y\n",
        "f= int (input(\"Total Frame: \"))\n",
        "check= input(\"Check User Input: \")"
      ],
      "execution_count": null,
      "outputs": [
        {
          "name": "stdout",
          "output_type": "stream",
          "text": [
            "Total Frame: 3\n",
            "Check User Input: y\n"
          ]
        }
      ]
    },
    {
      "cell_type": "code",
      "metadata": {
        "colab": {
          "base_uri": "https://localhost:8080/"
        },
        "id": "TzIQQhr9blA4",
        "outputId": "a564bbe0-cc72-4247-9f65-0242f4869fc9"
      },
      "source": [
        "#user input\n",
        "if check=='y':\n",
        "    a=[7,0,1,2,0,3,0,4,2,3,0,3,2,1,2,0,1,7,0,1]\n",
        "    print(\"Reference Chart: \",a)\n",
        "\n",
        "else:\n",
        "    n= int (input(\"No of String : \"))\n",
        "    print(\"Enter String: \")\n",
        "    for i in range(n):\n",
        "      t= int (input())\n",
        "      a.append(t)\n",
        "\n",
        "n=len(a) #length  here 20"
      ],
      "execution_count": null,
      "outputs": [
        {
          "output_type": "stream",
          "name": "stdout",
          "text": [
            "Reference Chart:  [7, 0, 1, 2, 0, 3, 0, 4, 2, 3, 0, 3, 2, 1, 2, 0, 1, 7, 0, 1]\n"
          ]
        }
      ]
    },
    {
      "cell_type": "code",
      "metadata": {
        "id": "5Uaz6TSibm1y"
      },
      "source": [
        "m= [] #initialize\n",
        "c= []\n",
        "t=[]\n",
        "total=0\n",
        "idx=0\n",
        "\n",
        "for i in range(f): #loop in frame\n",
        "    m.append(-1)\n",
        "    t.append(0)"
      ],
      "execution_count": null,
      "outputs": []
    },
    {
      "cell_type": "code",
      "metadata": {
        "colab": {
          "base_uri": "https://localhost:8080/"
        },
        "id": "oUldMlu_b7_O",
        "outputId": "ef44cb6d-7508-4b1d-f3ef-aa28f3392fad"
      },
      "source": [
        "#print output\n",
        "print(\"Output\")\n",
        "\n",
        "for i in range(n): #loop in length\n",
        "    test=0\n",
        "    \n",
        "    for p in range(f): #loop in frame\n",
        "        c.append(m[p])\n",
        "\n",
        "    for j in range(f): #loop in frame\n",
        "        \n",
        "        if a[i]==m[j]:\n",
        "            test=1\n",
        "            total+=1\n",
        "            t[j]=total\n",
        "            break\n",
        "    \n",
        "    if test==0:\n",
        "        idx=t.index(min(t))\n",
        "        m[idx]= a[i]\n",
        "        total+=1\n",
        "        t[idx]=total\n",
        "        sum+=1\n",
        "\n",
        "    if c==m:\n",
        "        for q in range(f): #loop in frame\n",
        "            print('-',end=' ') #print\n",
        "    else:\n",
        "        for q in range(f): #loop in frame\n",
        "\n",
        "            if m[q]==-1:\n",
        "                print(\"-\",end=' ') #print\n",
        "\n",
        "            else:\n",
        "                print(m[q],end=' ')\n",
        "\n",
        "    c.clear()\n",
        "    print() #print values"
      ],
      "execution_count": null,
      "outputs": [
        {
          "output_type": "stream",
          "name": "stdout",
          "text": [
            "Output\n",
            "7 - - \n",
            "7 0 - \n",
            "7 0 1 \n",
            "2 0 1 \n",
            "- - - \n",
            "2 0 3 \n",
            "- - - \n",
            "4 0 3 \n",
            "4 0 2 \n",
            "4 3 2 \n",
            "0 3 2 \n",
            "- - - \n",
            "- - - \n",
            "1 3 2 \n",
            "- - - \n",
            "1 0 2 \n",
            "- - - \n",
            "1 0 7 \n",
            "- - - \n",
            "- - - \n"
          ]
        }
      ]
    },
    {
      "cell_type": "code",
      "metadata": {
        "colab": {
          "base_uri": "https://localhost:8080/"
        },
        "id": "CtgkOprEcmtq",
        "outputId": "96dda30f-67ad-4a33-e5d9-f35ae7586760"
      },
      "source": [
        "print(\"Page Fault: \",sum) #page fault"
      ],
      "execution_count": null,
      "outputs": [
        {
          "output_type": "stream",
          "name": "stdout",
          "text": [
            "Page Fault:  12\n"
          ]
        }
      ]
    }
  ]
}