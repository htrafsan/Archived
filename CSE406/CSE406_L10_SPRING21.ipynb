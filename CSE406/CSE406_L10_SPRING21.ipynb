{
  "nbformat": 4,
  "nbformat_minor": 0,
  "metadata": {
    "colab": {
      "name": "18101009_FIFO_LAB5.ipynb",
      "provenance": []
    },
    "kernelspec": {
      "name": "python3",
      "display_name": "Python 3"
    },
    "language_info": {
      "name": "python"
    }
  },
  "cells": [
    {
      "cell_type": "markdown",
      "source": [
        "**CSE 406**\n",
        "```\n",
        "UNIVERSITY OF ASIA PACIFIC\n",
        "HASAN TAHSIN RAFSAN\n",
        "SPRING 2021\n",
        "Lab Problem 10\n",
        "1 SEPTEMBER 2021\n",
        "```"
      ],
      "metadata": {
        "id": "UGQ-Izgzw8Nr"
      }
    },
    {
      "cell_type": "markdown",
      "source": [
        "```\n",
        "FIRST IN FIRST OUT PAGE REPLACEMENT ALGORITHM\n",
        "```"
      ],
      "metadata": {
        "id": "Mxjcz56PxDwP"
      }
    },
    {
      "cell_type": "code",
      "metadata": {
        "id": "5HHf_miQXTbT"
      },
      "source": [
        "#initialize\n",
        "a= []\n",
        "sum= 0"
      ],
      "execution_count": null,
      "outputs": []
    },
    {
      "cell_type": "code",
      "metadata": {
        "colab": {
          "base_uri": "https://localhost:8080/"
        },
        "id": "eK6hN7RkXa_w",
        "outputId": "19cd177a-a506-4bf0-bca2-3f63471dc465"
      },
      "source": [
        "#input of frames  3 y\n",
        "f= int (input(\"Total Frame: \"))\n",
        "check= input(\"check User Input: \")"
      ],
      "execution_count": null,
      "outputs": [
        {
          "name": "stdout",
          "output_type": "stream",
          "text": [
            "Total Frame: 3\n",
            "check user input: y\n"
          ]
        }
      ]
    },
    {
      "cell_type": "code",
      "metadata": {
        "colab": {
          "base_uri": "https://localhost:8080/"
        },
        "id": "yV2xCYhrX3KV",
        "outputId": "dbe94272-3ae9-463a-f86f-c501d8223e26"
      },
      "source": [
        "#user input\n",
        "if check=='y':\n",
        "    a=[7,0,1,2,0,3,0,4,2,3,0,3,2,1,2,0,1,7,0,1]\n",
        "    print(\"Reference Chart: \",a)\n",
        "\n",
        "else:\n",
        "    n= int (input(\"No of String : \"))\n",
        "    print(\"Enter String: \")\n",
        "    for i in range(n):\n",
        "      t= int (input())\n",
        "      a.append(t)\n",
        "\n",
        "n=len(a) #length  here 20"
      ],
      "execution_count": null,
      "outputs": [
        {
          "output_type": "stream",
          "name": "stdout",
          "text": [
            "Reference Chart:  [7, 0, 1, 2, 0, 3, 0, 4, 2, 3, 0, 3, 2, 1, 2, 0, 1, 7, 0, 1]\n"
          ]
        }
      ]
    },
    {
      "cell_type": "code",
      "metadata": {
        "id": "c1Z7rqyyYQft"
      },
      "source": [
        "m= [] #initialize\n",
        "c= []\n",
        "\n",
        "for i in range(f): #loop in frame\n",
        "    m.append(-1)\n",
        "count= 0"
      ],
      "execution_count": null,
      "outputs": []
    },
    {
      "cell_type": "code",
      "metadata": {
        "colab": {
          "base_uri": "https://localhost:8080/"
        },
        "id": "cYB6_YGJYjel",
        "outputId": "b6b60c0b-a796-410b-bef4-08fe6a0df2ac"
      },
      "source": [
        "print('Output') #print fifo output\n",
        "\n",
        "for i in range(n): #loop in length\n",
        "    test=0\n",
        "    p=0\n",
        "\n",
        "    for p in range(f): #loop in frame\n",
        "        c.append(m[p])\n",
        "\n",
        "    if count>=f:\n",
        "        count=0\n",
        "    \n",
        "    for j in range(f): #loop in frame\n",
        "        if a[i]==m[j]:\n",
        "            test=1\n",
        "            break\n",
        "    \n",
        "    if test==0:\n",
        "        m[count]= a[i]\n",
        "        count+=1\n",
        "        sum+=1\n",
        "\n",
        "    if c==m:\n",
        "        for q in range(f): #loop in frame\n",
        "            print('-',end=' ') #print\n",
        "\n",
        "    else:\n",
        "        for q in range(f): #loop in frame\n",
        "\n",
        "            if m[q]==-1:\n",
        "                print(\"-\",end=' ') #print\n",
        "\n",
        "            else:\n",
        "                print(m[q],end=' ') #print\n",
        "\n",
        "    c.clear()\n",
        "    print() #print values"
      ],
      "execution_count": null,
      "outputs": [
        {
          "output_type": "stream",
          "name": "stdout",
          "text": [
            "Output\n",
            "7 - - \n",
            "7 0 - \n",
            "7 0 1 \n",
            "2 0 1 \n",
            "- - - \n",
            "2 3 1 \n",
            "2 3 0 \n",
            "4 3 0 \n",
            "4 2 0 \n",
            "4 2 3 \n",
            "0 2 3 \n",
            "- - - \n",
            "- - - \n",
            "0 1 3 \n",
            "0 1 2 \n",
            "- - - \n",
            "- - - \n",
            "7 1 2 \n",
            "7 0 2 \n",
            "7 0 1 \n"
          ]
        }
      ]
    },
    {
      "cell_type": "code",
      "metadata": {
        "colab": {
          "base_uri": "https://localhost:8080/"
        },
        "id": "ylFrLBlcZBFS",
        "outputId": "26f972b4-62ac-40e7-fefb-c2386592da56"
      },
      "source": [
        "print(\"Page Fault: \",sum) #page fault"
      ],
      "execution_count": null,
      "outputs": [
        {
          "output_type": "stream",
          "name": "stdout",
          "text": [
            "Page Fault:  15\n"
          ]
        }
      ]
    }
  ]
}