{
  "nbformat": 4,
  "nbformat_minor": 0,
  "metadata": {
    "colab": {
      "name": "18101009_PS+RR_LAB2.ipynb",
      "provenance": []
    },
    "kernelspec": {
      "name": "python3",
      "display_name": "Python 3"
    },
    "language_info": {
      "name": "python"
    }
  },
  "cells": [
    {
      "cell_type": "markdown",
      "source": [
        "\n",
        "**CSE 406**\n",
        "```\n",
        "UNIVERSITY OF ASIA PACIFIC\n",
        "HASAN TAHSIN RAFSAN\n",
        "FALL 2021\n",
        "Lab Problem 3\n",
        "18 AUGUST 2021\n",
        "```"
      ],
      "metadata": {
        "id": "Ucld--edqFj5"
      }
    },
    {
      "cell_type": "markdown",
      "metadata": {
        "id": "PP3JeFfDZYqj"
      },
      "source": [
        "```\n",
        "PRIORITY SCHEDULING CPU SCHEDULING ALGORITHM\n",
        "GIVEN INPUTS\n",
        "P1 P2 P3 P4\n",
        "21 3 6 2\n",
        "2 1 4 3\n",
        "```"
      ]
    },
    {
      "cell_type": "code",
      "metadata": {
        "colab": {
          "base_uri": "https://localhost:8080/"
        },
        "id": "HZgWCy_TZrk6",
        "outputId": "060a2216-6f9b-4b9f-fc5b-495542c65906"
      },
      "source": [
        "#input process, Burst Time & priority\n",
        "import pandas as pd\n",
        "\n",
        "print('Process:', end=' ')\n",
        "process = input().split()\n",
        "\n",
        "print('Burst Time:', end=' ')\n",
        "time = list(map(int, input().split()))\n",
        "\n",
        "print('Priority:', end=' ')\n",
        "priority = list(map(int, input().split()))"
      ],
      "execution_count": null,
      "outputs": [
        {
          "output_type": "stream",
          "text": [
            "Process: P1 P2 P3 P4\n",
            "Burst Time: 21 3 6 2\n",
            "Priority: 2 1 4 3\n"
          ],
          "name": "stdout"
        }
      ]
    },
    {
      "cell_type": "code",
      "metadata": {
        "colab": {
          "base_uri": "https://localhost:8080/",
          "height": 173
        },
        "id": "W7qQAQaPaB5B",
        "outputId": "19880b09-af16-4e90-847c-4098cd5fdcd7"
      },
      "source": [
        "nl = [process, time, priority] #list\n",
        "df = pd.DataFrame(nl).transpose() #transpose\n",
        "df.columns = ['Process', 'BurstTime', 'Priority'] #table columns\n",
        "df"
      ],
      "execution_count": null,
      "outputs": [
        {
          "output_type": "execute_result",
          "data": {
            "text/html": [
              "<div>\n",
              "<style scoped>\n",
              "    .dataframe tbody tr th:only-of-type {\n",
              "        vertical-align: middle;\n",
              "    }\n",
              "\n",
              "    .dataframe tbody tr th {\n",
              "        vertical-align: top;\n",
              "    }\n",
              "\n",
              "    .dataframe thead th {\n",
              "        text-align: right;\n",
              "    }\n",
              "</style>\n",
              "<table border=\"1\" class=\"dataframe\">\n",
              "  <thead>\n",
              "    <tr style=\"text-align: right;\">\n",
              "      <th></th>\n",
              "      <th>Process</th>\n",
              "      <th>BurstTime</th>\n",
              "      <th>Priority</th>\n",
              "    </tr>\n",
              "  </thead>\n",
              "  <tbody>\n",
              "    <tr>\n",
              "      <th>0</th>\n",
              "      <td>P1</td>\n",
              "      <td>21</td>\n",
              "      <td>2</td>\n",
              "    </tr>\n",
              "    <tr>\n",
              "      <th>1</th>\n",
              "      <td>P2</td>\n",
              "      <td>3</td>\n",
              "      <td>1</td>\n",
              "    </tr>\n",
              "    <tr>\n",
              "      <th>2</th>\n",
              "      <td>P3</td>\n",
              "      <td>6</td>\n",
              "      <td>4</td>\n",
              "    </tr>\n",
              "    <tr>\n",
              "      <th>3</th>\n",
              "      <td>P4</td>\n",
              "      <td>2</td>\n",
              "      <td>3</td>\n",
              "    </tr>\n",
              "  </tbody>\n",
              "</table>\n",
              "</div>"
            ],
            "text/plain": [
              "  Process BurstTime Priority\n",
              "0      P1        21        2\n",
              "1      P2         3        1\n",
              "2      P3         6        4\n",
              "3      P4         2        3"
            ]
          },
          "metadata": {},
          "execution_count": 10
        }
      ]
    },
    {
      "cell_type": "code",
      "metadata": {
        "colab": {
          "base_uri": "https://localhost:8080/"
        },
        "id": "J_QpR4ZAaKet",
        "outputId": "a9255166-86e5-48a7-83f6-d2fcc1d6d818"
      },
      "source": [
        "import numpy as np\n",
        "\n",
        "df.sort_values(by=['Priority'], ascending=True, axis=0, inplace=True) #sorting by priority\n",
        "df\n",
        "\n",
        "#Grant Chart\n",
        "print(\"Grant Chart:\")\n",
        "\n",
        "print(0, end=' ') #add 0 in grant chart\n",
        "\n",
        "temp = 0\n",
        "nl2 = [0]\n",
        "\n",
        "for p, t in zip(df.Process, df.BurstTime): \n",
        "    temp += t #waiting\n",
        "    nl2.append(temp)\n",
        "    print(p, temp, end=' ') #print process name & waiting in g_chart"
      ],
      "execution_count": null,
      "outputs": [
        {
          "output_type": "stream",
          "text": [
            "Grant Chart:\n",
            "0 P2 3 P1 24 P4 26 P3 32 "
          ],
          "name": "stdout"
        }
      ]
    },
    {
      "cell_type": "code",
      "metadata": {
        "colab": {
          "base_uri": "https://localhost:8080/"
        },
        "id": "e7d05PPia1lc",
        "outputId": "67f59972-f30f-4a92-800a-f862990929e5"
      },
      "source": [
        "#avg waiting time\n",
        "nl2 = nl2[:-1] #update total process step length\n",
        "nl2\n",
        "\n",
        "waiting = np.sum(nl2)/len(nl2)\n",
        "print('Average waiting time : {0:.2f}ms'.format(waiting)) #avg waiting = sum of waiting/length of total process"
      ],
      "execution_count": null,
      "outputs": [
        {
          "output_type": "stream",
          "text": [
            "Average waiting time : 13.25ms\n"
          ],
          "name": "stdout"
        }
      ]
    }
  ]
}