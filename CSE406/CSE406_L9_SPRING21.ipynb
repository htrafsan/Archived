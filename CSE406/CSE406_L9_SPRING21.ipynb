{
  "nbformat": 4,
  "nbformat_minor": 0,
  "metadata": {
    "colab": {
      "name": "18101009_C_LOOK_LAB4.ipynb",
      "provenance": [],
      "collapsed_sections": []
    },
    "kernelspec": {
      "name": "python3",
      "display_name": "Python 3"
    },
    "language_info": {
      "name": "python"
    }
  },
  "cells": [
    {
      "cell_type": "markdown",
      "source": [
        "**CSE 406**\n",
        "```\n",
        "UNIVERSITY OF ASIA PACIFIC\n",
        "HASAN TAHSIN RAFSAN\n",
        "SPRING 2021\n",
        "Lab Problem 9\n",
        "25 AUGUST 2021\n",
        "```"
      ],
      "metadata": {
        "id": "BHI24nMKwjRN"
      }
    },
    {
      "cell_type": "markdown",
      "source": [
        "```\n",
        "C-LOOK DISK SCHEDULING ALGORITHM\n",
        "GIVEN INPUTS\n",
        "98,183,37,122,14,124,65,67\n",
        "HEAD\n",
        "53\n",
        "END BOUND\n",
        "199\n",
        "```"
      ],
      "metadata": {
        "id": "gYxAOs70wYTB"
      }
    },
    {
      "cell_type": "code",
      "metadata": {
        "colab": {
          "base_uri": "https://localhost:8080/"
        },
        "id": "BW7RWYLLqEHe",
        "outputId": "d45d1ca0-7648-4a9d-eda2-d6bcf32b2fb4"
      },
      "source": [
        "#input of queue head & endbound\n",
        "queue = list(map(int, input('Queue is : ').split(\",\")))\n",
        "head = int(input('Head starts at : '))\n",
        "end_bound = int(input('End Boundary : '))"
      ],
      "execution_count": null,
      "outputs": [
        {
          "output_type": "stream",
          "text": [
            "Queue is : 98,183,37,122,14,124,65,67\n",
            "Head starts at : 53\n",
            "End Boundary : 199\n"
          ],
          "name": "stdout"
        }
      ]
    },
    {
      "cell_type": "code",
      "metadata": {
        "colab": {
          "base_uri": "https://localhost:8080/"
        },
        "id": "i_b9IQo9q3lC",
        "outputId": "3fa3a50d-c464-4a29-c116-f3966e043109"
      },
      "source": [
        "q2 = queue.copy() #store in q2\n",
        "q2.append(head)\n",
        "q2.append(0) #head replace with 0\n",
        "q2.sort() #sorting\n",
        "print(q2) #print path"
      ],
      "execution_count": null,
      "outputs": [
        {
          "output_type": "stream",
          "text": [
            "[0, 14, 37, 53, 65, 67, 98, 122, 124, 183]\n"
          ],
          "name": "stdout"
        }
      ]
    },
    {
      "cell_type": "code",
      "metadata": {
        "colab": {
          "base_uri": "https://localhost:8080/"
        },
        "id": "TtAz5hl7q5x4",
        "outputId": "8b10e4f9-ba5d-474a-cf50-522e6df5ec43"
      },
      "source": [
        "#store in q3\n",
        "q3 = q2[:q2.index(head)]\n",
        "q3.append(head)\n",
        "q3 = q3[::-1]\n",
        "print(q3)"
      ],
      "execution_count": null,
      "outputs": [
        {
          "output_type": "stream",
          "text": [
            "[53, 37, 14, 0]\n"
          ],
          "name": "stdout"
        }
      ]
    },
    {
      "cell_type": "code",
      "metadata": {
        "colab": {
          "base_uri": "https://localhost:8080/"
        },
        "id": "nhjDTiQlq8uF",
        "outputId": "5f60ae12-2153-4e46-f65c-2d5cdc2b43e4"
      },
      "source": [
        "#store in q4\n",
        "q4 = q2[q2.index(head):]\n",
        "q4.sort()\n",
        "q4[q4.index(head)]=0\n",
        "print(q4)"
      ],
      "execution_count": null,
      "outputs": [
        {
          "output_type": "stream",
          "text": [
            "[0, 65, 67, 98, 122, 124, 183]\n"
          ],
          "name": "stdout"
        }
      ]
    },
    {
      "cell_type": "code",
      "metadata": {
        "colab": {
          "base_uri": "https://localhost:8080/"
        },
        "id": "faBYuJzJq-Jc",
        "outputId": "ba412258-28ad-413b-95ba-7d02bc6ad3b9"
      },
      "source": [
        "q3.extend(q4[1:])\n",
        "print(q3) #updated q3"
      ],
      "execution_count": null,
      "outputs": [
        {
          "output_type": "stream",
          "text": [
            "[53, 37, 14, 0, 65, 67, 98, 122, 124, 183, 65, 67, 98, 122, 124, 183]\n"
          ],
          "name": "stdout"
        }
      ]
    },
    {
      "cell_type": "code",
      "metadata": {
        "colab": {
          "base_uri": "https://localhost:8080/"
        },
        "id": "WjnCCmKHrD7s",
        "outputId": "24c144bf-ed84-419f-d585-1ccf4c0391ac"
      },
      "source": [
        "q2.insert(len(q2),end_bound)\n",
        "print(q2) #inserted end boundary in q2"
      ],
      "execution_count": null,
      "outputs": [
        {
          "output_type": "stream",
          "text": [
            "[0, 14, 37, 53, 65, 67, 98, 122, 124, 183, 199]\n"
          ],
          "name": "stdout"
        }
      ]
    },
    {
      "cell_type": "code",
      "metadata": {
        "colab": {
          "base_uri": "https://localhost:8080/"
        },
        "id": "CYQ6eyWFrGQ3",
        "outputId": "a755258e-822b-4f91-a48b-025eebb7537f"
      },
      "source": [
        "q3 = q2[:q2.index(head)]\n",
        "print(q3) #store in q3"
      ],
      "execution_count": null,
      "outputs": [
        {
          "output_type": "stream",
          "text": [
            "[0, 14, 37]\n"
          ],
          "name": "stdout"
        }
      ]
    },
    {
      "cell_type": "code",
      "metadata": {
        "colab": {
          "base_uri": "https://localhost:8080/"
        },
        "id": "kPxRpq60rIeZ",
        "outputId": "aafedb04-6811-40c5-f193-273396c85459"
      },
      "source": [
        "q4 = q2[q2.index(head):]\n",
        "print(q4) #store in q4"
      ],
      "execution_count": null,
      "outputs": [
        {
          "output_type": "stream",
          "text": [
            "[53, 65, 67, 98, 122, 124, 183, 199]\n"
          ],
          "name": "stdout"
        }
      ]
    },
    {
      "cell_type": "code",
      "metadata": {
        "id": "VU8xs2Q7rQmf"
      },
      "source": [
        "#After C-SCAN"
      ],
      "execution_count": null,
      "outputs": []
    },
    {
      "cell_type": "code",
      "metadata": {
        "colab": {
          "base_uri": "https://localhost:8080/"
        },
        "id": "2avleS6grQxd",
        "outputId": "41b91c2e-4d37-4ba1-a4e9-520edb3b557b"
      },
      "source": [
        "#print the path\n",
        "print (\"Path:\")\n",
        "q6 = q4[:-1]+q3[1:]\n",
        "print(q6)"
      ],
      "execution_count": null,
      "outputs": [
        {
          "output_type": "stream",
          "text": [
            "Path:\n",
            "[53, 65, 67, 98, 122, 124, 183, 14, 37]\n"
          ],
          "name": "stdout"
        }
      ]
    },
    {
      "cell_type": "code",
      "metadata": {
        "colab": {
          "base_uri": "https://localhost:8080/"
        },
        "id": "tt3yNtFXrYyE",
        "outputId": "e3c5ae04-837c-48cb-a072-80bea3d0410a"
      },
      "source": [
        "val= [] #let path cost array\n",
        "print(\"Total Distance:\")\n",
        "\n",
        "for i in range(len(q6)-1): #loop for range in q6\n",
        "    val.append(abs(q6[i] - q6[i+1]))\n",
        "\n",
        "    if i == (len(q6)-2):\n",
        "        print('({}-{})'.format(q6[i+1],q6[i])) #print distance\n",
        "\n",
        "    else:\n",
        "        print('({}-{})'.format(q6[i+1],q6[i]),end='+') #print distance"
      ],
      "execution_count": null,
      "outputs": [
        {
          "output_type": "stream",
          "text": [
            "Total Distance:\n",
            "(65-53)+(67-65)+(98-67)+(122-98)+(124-122)+(183-124)+(14-183)+(37-14)\n"
          ],
          "name": "stdout"
        }
      ]
    },
    {
      "cell_type": "code",
      "metadata": {
        "colab": {
          "base_uri": "https://localhost:8080/"
        },
        "id": "_KA92XI9sOwS",
        "outputId": "66419992-0063-4801-9f85-009f88820780"
      },
      "source": [
        "#total path cost\n",
        "print('Illustratrion shows total movement of',sum(val), 'cylinders')"
      ],
      "execution_count": null,
      "outputs": [
        {
          "output_type": "stream",
          "text": [
            "Illustratrion shows total movement of 322 cylinders\n"
          ],
          "name": "stdout"
        }
      ]
    }
  ]
}