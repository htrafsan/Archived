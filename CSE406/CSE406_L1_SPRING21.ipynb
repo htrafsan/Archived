{
  "nbformat": 4,
  "nbformat_minor": 0,
  "metadata": {
    "colab": {
      "name": "18101009_FCFS_LAB1.ipynb",
      "provenance": []
    },
    "kernelspec": {
      "name": "python3",
      "display_name": "Python 3"
    },
    "language_info": {
      "name": "python"
    }
  },
  "cells": [
    {
      "cell_type": "markdown",
      "source": [
        "**CSE 406**\n",
        "```\n",
        "UNIVERSITY OF ASIA PACIFIC\n",
        "HASAN TAHSIN RAFSAN\n",
        "SPRING 2021\n",
        "LAB TASK 1\n",
        "18 AUGUST 2021\n",
        "```"
      ],
      "metadata": {
        "id": "sxf6MeZhm6Ej"
      }
    },
    {
      "cell_type": "markdown",
      "metadata": {
        "id": "HYALH1jvLXdY"
      },
      "source": [
        "```\n",
        "FIRST COME FIRST SERVE CPU SCHEDULING ALGORITHM\n",
        "GIVEN INPUTS\n",
        "P1 P2 P3 P4\n",
        "21 3 6 2\n",
        "```"
      ]
    },
    {
      "cell_type": "code",
      "metadata": {
        "colab": {
          "base_uri": "https://localhost:8080/"
        },
        "id": "zIL6fHPFLeJs",
        "outputId": "76ee757e-6c7b-4892-b7f4-d85a36253194"
      },
      "source": [
        "#input of process name & burst time\n",
        "\n",
        "import pandas as pd\n",
        "import numpy as np\n",
        "\n",
        "print('Process:', end=' ')\n",
        "process = input().split()\n",
        "\n",
        "print('Burst time :', end=' ')\n",
        "btime = list(map(int, input().split()))"
      ],
      "execution_count": null,
      "outputs": [
        {
          "output_type": "stream",
          "text": [
            "Process: P1 P2 P3 P4\n",
            "Burst time : 21 3 6 2\n"
          ],
          "name": "stdout"
        }
      ]
    },
    {
      "cell_type": "code",
      "metadata": {
        "colab": {
          "base_uri": "https://localhost:8080/"
        },
        "id": "kThbPkRBQey3",
        "outputId": "2765a170-2ccc-472d-ce0c-03f1e21c57b2"
      },
      "source": [
        "process"
      ],
      "execution_count": null,
      "outputs": [
        {
          "output_type": "execute_result",
          "data": {
            "text/plain": [
              "['P1', 'P2', 'P3', 'P4']"
            ]
          },
          "metadata": {},
          "execution_count": 23
        }
      ]
    },
    {
      "cell_type": "code",
      "metadata": {
        "colab": {
          "base_uri": "https://localhost:8080/"
        },
        "id": "_zRjd9G8QoN8",
        "outputId": "c8ac95c2-eada-4612-b272-098c4ca02f2f"
      },
      "source": [
        "btime"
      ],
      "execution_count": null,
      "outputs": [
        {
          "output_type": "execute_result",
          "data": {
            "text/plain": [
              "[21, 3, 6, 2]"
            ]
          },
          "metadata": {},
          "execution_count": 24
        }
      ]
    },
    {
      "cell_type": "code",
      "metadata": {
        "colab": {
          "base_uri": "https://localhost:8080/"
        },
        "id": "xvDm3yZ-Oa5d",
        "outputId": "2987b9b1-bcb9-4f76-d96e-487eaa8fb646"
      },
      "source": [
        "#initialize with process & btime\n",
        "type(process)\n",
        "type(process[1])\n",
        "\n",
        "type(btime)\n",
        "type(btime[1])\n",
        "\n",
        "#store in table\n",
        "l = [process, btime] #list\n",
        "df = pd.DataFrame(l).transpose() #transpose\n",
        "df.columns = ['Process', 'BurstTime'] #table column\n",
        "df\n",
        "\n",
        "print(\"Grant Chart: \")\n",
        "print(0, end=' ') #add 0 in first\n",
        "\n",
        "temp = 0\n",
        "l2 = [0]\n",
        "\n",
        "for p, t in zip(df.Process, df.BurstTime):\n",
        "    temp = temp + t #waiting\n",
        "    l2.append(temp)\n",
        "    print(p, temp, end=' ') #print process & waiting time in g_chart"
      ],
      "execution_count": null,
      "outputs": [
        {
          "output_type": "stream",
          "text": [
            "Grant Chart: \n",
            "0 P1 21 P2 24 P3 30 P4 32 "
          ],
          "name": "stdout"
        }
      ]
    },
    {
      "cell_type": "code",
      "metadata": {
        "colab": {
          "base_uri": "https://localhost:8080/"
        },
        "id": "b3dWhwPQQ7pD",
        "outputId": "b9ba04a7-7bb9-4e4c-a782-a36e1889cb41"
      },
      "source": [
        "#avg waiting time\n",
        "l2\n",
        "l2 = l2[:-1] #update total process step length\n",
        "l2\n",
        "\n",
        "waiting = np.sum(l2)/len(l2) #avg waiting = sum of waiting/length of total process\n",
        "print('Average waiting time : {0:.2f} ms'.format(waiting))"
      ],
      "execution_count": null,
      "outputs": [
        {
          "output_type": "stream",
          "text": [
            "Average waiting time : 18.75 ms\n"
          ],
          "name": "stdout"
        }
      ]
    }
  ]
}