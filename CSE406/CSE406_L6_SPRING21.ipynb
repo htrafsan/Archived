{
  "nbformat": 4,
  "nbformat_minor": 0,
  "metadata": {
    "colab": {
      "name": "18101009_SSTF_LAB3.ipynb",
      "provenance": [],
      "collapsed_sections": []
    },
    "kernelspec": {
      "name": "python3",
      "display_name": "Python 3"
    },
    "language_info": {
      "name": "python"
    }
  },
  "cells": [
    {
      "cell_type": "markdown",
      "source": [
        "**CSE 406**\n",
        "```\n",
        "UNIVERSITY OF ASIA PACIFIC\n",
        "HASAN TAHSIN RAFSAN\n",
        "SPRING 2021\n",
        "Lab Problem 6\n",
        "25 AUGUST 2021\n",
        "```"
      ],
      "metadata": {
        "id": "Y50xjXUtuh8T"
      }
    },
    {
      "cell_type": "markdown",
      "source": [
        "```\n",
        "SHORTEST SEEK TIME FIRST DISK SCHEDULING ALGORITHM\n",
        "GIVEN INPUTS\n",
        "98,183,37,122,14,124,65,67\n",
        "HEAD\n",
        "53\n",
        "```"
      ],
      "metadata": {
        "id": "UdPP5kpLumq_"
      }
    },
    {
      "cell_type": "code",
      "metadata": {
        "colab": {
          "base_uri": "https://localhost:8080/"
        },
        "id": "u2mtaytUfBrg",
        "outputId": "309db3a9-02d4-4352-c331-6a97d330dc51"
      },
      "source": [
        "#input of queue & head\n",
        "queue = list(map(int, input('Queue is : ').split(\",\")))\n",
        "head = int(input('Head starts at : '))"
      ],
      "execution_count": null,
      "outputs": [
        {
          "output_type": "stream",
          "text": [
            "Queue is : 98,183,37,122,14,124,65,67\n",
            "Head starts at : 53\n"
          ],
          "name": "stdout"
        }
      ]
    },
    {
      "cell_type": "code",
      "metadata": {
        "colab": {
          "base_uri": "https://localhost:8080/"
        },
        "id": "E4-itKtffHSP",
        "outputId": "e7597378-cf2c-4ebc-b226-fb8e7a777f02"
      },
      "source": [
        "queue.insert(0,head) #insert 0 to map head\n",
        "print('Path: ',queue) #print path"
      ],
      "execution_count": null,
      "outputs": [
        {
          "output_type": "stream",
          "text": [
            "Path:  [53, 98, 183, 37, 122, 14, 124, 65, 67]\n"
          ],
          "name": "stdout"
        }
      ]
    },
    {
      "cell_type": "code",
      "metadata": {
        "colab": {
          "base_uri": "https://localhost:8080/"
        },
        "id": "KjUUnmLkfKY6",
        "outputId": "70a77c4c-612e-41b2-c38c-39a640d75cc5"
      },
      "source": [
        "path = [head] #path initialize with head = 53\n",
        "cnt = len(queue)-1 #total queue size\n",
        "val = 0\n",
        "print(\"Total Distance:\")\n",
        "\n",
        "while queue: #loop\n",
        "    \n",
        "    if cnt == 0:\n",
        "        queue.remove(head) #remove head \n",
        "        hdr = path[len(path)-1] #update head\n",
        "        mindis = 999999999999999999 #let min distance \n",
        "        \n",
        "        for i in queue:\n",
        "            if mindist > abs(hdr-i):\n",
        "                mindis = abs(hdr-i)\n",
        "                temp = i #update min distance\n",
        "                \n",
        "        print('({}-{})'.format(temp,hdr)) #print distance\n",
        "        path.append(temp)\n",
        "        head= temp #update head after step\n",
        "        \n",
        "    else:\n",
        "        queue.remove(head) #remove head\n",
        "        hdr = path[len(path)-1] #update path\n",
        "        mindis = 999999999999999999 #let min distance\n",
        "        \n",
        "        for i in queue:\n",
        "            if mindis > abs(hdr-i):\n",
        "                mindis = abs(hdr-i)\n",
        "                temp = i #update min distance\n",
        "        \n",
        "        print('({}-{})'.format(temp,hdr),end='+') #print\n",
        "        val+=abs(hdr-temp)\n",
        "        path.append(temp)\n",
        "        head= temp #update head\n",
        "        \n",
        "    cnt-= 1 #move loop's next element"
      ],
      "execution_count": null,
      "outputs": [
        {
          "output_type": "stream",
          "text": [
            "Total Distance:\n",
            "(65-53)+(67-65)+(37-67)+(14-37)+(98-14)+(122-98)+(124-122)+(183-124)+(183-183)\n"
          ],
          "name": "stdout"
        }
      ]
    },
    {
      "cell_type": "code",
      "metadata": {
        "colab": {
          "base_uri": "https://localhost:8080/"
        },
        "id": "11si6xrQfUdR",
        "outputId": "e9a7de9f-da31-441c-fafb-ab435ef05c34"
      },
      "source": [
        "#print path\n",
        "print('Path: ',path[:-1])"
      ],
      "execution_count": null,
      "outputs": [
        {
          "output_type": "stream",
          "text": [
            "Path:  [53, 65, 67, 37, 14, 98, 122, 124, 183]\n"
          ],
          "name": "stdout"
        }
      ]
    },
    {
      "cell_type": "code",
      "metadata": {
        "colab": {
          "base_uri": "https://localhost:8080/"
        },
        "id": "Y33_fOlffW6k",
        "outputId": "9a902441-9100-4abb-e089-b8f8f5d65c10"
      },
      "source": [
        "#total path cost\n",
        "print('Illustratrion shows total movement of',val, 'cylinders')"
      ],
      "execution_count": null,
      "outputs": [
        {
          "output_type": "stream",
          "text": [
            "Illustratrion shows total movement of 236 cylinders\n"
          ],
          "name": "stdout"
        }
      ]
    }
  ]
}