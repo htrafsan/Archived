{
  "nbformat": 4,
  "nbformat_minor": 0,
  "metadata": {
    "colab": {
      "name": "18101009_PS+RR_LAB2.ipynb",
      "provenance": []
    },
    "kernelspec": {
      "name": "python3",
      "display_name": "Python 3"
    },
    "language_info": {
      "name": "python"
    }
  },
  "cells": [
    {
      "cell_type": "markdown",
      "source": [
        "\n",
        "**CSE 406**\n",
        "```\n",
        "UNIVERSITY OF ASIA PACIFIC\n",
        "HASAN TAHSIN RAFSAN\n",
        "FALL 2021\n",
        "Lab Problem 4\n",
        "18 AUGUST 2021\n",
        "```"
      ],
      "metadata": {
        "id": "k-nVz-qNq-BK"
      }
    },
    {
      "cell_type": "markdown",
      "source": [
        "```\n",
        "ROUND ROBIN CPU SCHEDULING ALGORITHM\n",
        "GIVEN INPUTS\n",
        "PROCESS\n",
        "4\n",
        "P1 P2 P3 P4\n",
        "21 3 6 2\n",
        "QUANTUM\n",
        "5\n",
        "```"
      ],
      "metadata": {
        "id": "ZGC9nTTBrAcD"
      }
    },
    {
      "cell_type": "code",
      "source": [
        "#input process, Burst Time & priority\n",
        "import pandas as pd\n",
        "import numpy as np"
      ],
      "metadata": {
        "id": "4G6eFpUyr6Hf"
      },
      "execution_count": null,
      "outputs": []
    },
    {
      "cell_type": "code",
      "metadata": {
        "id": "2UtXU353baxx"
      },
      "source": [
        "def waitingtime(num_of_process, burst_time, waiting_time, quantum):\n",
        "    remaining_burst_time = [0] * num_of_process\n",
        "    \n",
        "    print(\"Grant Chart:\")\n",
        "\n",
        "    for i in range(num_of_process):\n",
        "        remaining_burst_time[i] = burst_time[i]\n",
        "    time = 0\n",
        "    \n",
        "    while 1: #condition = true\n",
        "        done = True\n",
        "        \n",
        "        for i in range(num_of_process): \n",
        "            \n",
        "            if remaining_burst_time[i] > 0: #remaing is larger than 0, not complete\n",
        "                done = False \n",
        "                \n",
        "                if remaining_burst_time[i] > quantum: #all process not completed, larger than quan\n",
        "                    time += quantum #update waiting time\n",
        "                    remaining_burst_time[i] -= quantum\n",
        "                    print(waiting_time[i],\"P\",i + 1, end='|') #g_chart\n",
        "                \n",
        "                else:\n",
        "                    time = time + remaining_burst_time[i] #update waiting time\n",
        "                    waiting_time[i] = time - burst_time[i]\n",
        "                    remaining_burst_time[i] = 0\n",
        "                    print(waiting_time[i],\"P\",i + 1, end='|') #g_chart\n",
        "        \n",
        "        if done: #all process completed\n",
        "            break"
      ],
      "execution_count": null,
      "outputs": []
    },
    {
      "cell_type": "code",
      "metadata": {
        "id": "E-P31BdteVVw"
      },
      "source": [
        "#avg waiting time\n",
        "def findavgtime(num_of_process, burst_time, quantum):\n",
        "    waiting_time = [0] * num_of_process\n",
        "    waitingtime(num_of_process, burst_time, waiting_time, quantum) #funct call from up\n",
        "    total_waiting_time = 0\n",
        "\n",
        "    for i in range(num_of_process):\n",
        "        total_waiting_time = total_waiting_time + waiting_time[i] #update total waiting\n",
        "    \n",
        "    print(\"\\nAvg. waiting time : \", (total_waiting_time / num_of_process), \"ms\") # print avg wtime"
      ],
      "execution_count": null,
      "outputs": []
    },
    {
      "cell_type": "code",
      "metadata": {
        "colab": {
          "base_uri": "https://localhost:8080/"
        },
        "id": "Q4jEL-oehSa_",
        "outputId": "812b7191-8b65-482b-dae9-a95f9a04de2d"
      },
      "source": [
        "burst_time = []\n",
        "num_of_process = int(input(\"Enter Number of Process: \"))\n",
        "serial = 1\n",
        "\n",
        "for i in range(num_of_process):\n",
        "    print(\"For process = \", serial, end='')\n",
        "    burst_time.append(int(input(\", Burst Time = \")))\n",
        "    serial += 1\n",
        "\n",
        "quantum = int(input(\"Enter Quantum = \"))\n",
        "findavgtime(num_of_process, burst_time, quantum)"
      ],
      "execution_count": null,
      "outputs": [
        {
          "output_type": "stream",
          "text": [
            "Enter Number of Process: 4\n",
            "For process =  1, Burst Time = 21\n",
            "For process =  2, Burst Time = 3\n",
            "For process =  3, Burst Time = 6\n",
            "For process =  4, Burst Time = 2\n",
            "Enter Quantum = 5\n",
            "Grant Chart:\n",
            "0 P 1|5 P 2|0 P 3|13 P 4|0 P 1|15 P 3|0 P 1|0 P 1|11 P 1|\n",
            "Avg. waiting time :  11.0 ms\n"
          ],
          "name": "stdout"
        }
      ]
    }
  ]
}